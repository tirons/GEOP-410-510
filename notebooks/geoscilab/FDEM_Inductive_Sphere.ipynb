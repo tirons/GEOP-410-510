{
 "cells": [
  {
   "cell_type": "code",
   "execution_count": 2,
   "metadata": {},
   "outputs": [
    {
     "name": "stdout",
     "output_type": "stream",
     "text": [
      "Defaulting to user installation because normal site-packages is not writeable\n",
      "Requirement already satisfied: geoscilabs in /home/tirons/.local/lib/python3.8/site-packages (0.2.0)\n",
      "Requirement already satisfied: cvxopt in /home/tirons/.local/lib/python3.8/site-packages (from geoscilabs) (1.2.5)\n",
      "Requirement already satisfied: empymod>=2.0.0 in /home/tirons/.local/lib/python3.8/site-packages (from geoscilabs) (2.0.2)\n",
      "Requirement already satisfied: matplotlib>2.1 in /usr/lib/python3.8/site-packages/matplotlib-3.3.1-py3.8-linux-x86_64.egg (from geoscilabs) (3.3.1)\n",
      "Requirement already satisfied: discretize>=0.4.14 in /usr/lib/python3.8/site-packages (from geoscilabs) (0.5.1)\n",
      "Requirement already satisfied: deepdish in /home/tirons/.local/lib/python3.8/site-packages (from geoscilabs) (0.3.6)\n",
      "Requirement already satisfied: requests in /usr/lib/python3.8/site-packages (from geoscilabs) (2.24.0)\n",
      "Requirement already satisfied: jupyter in /home/tirons/.local/lib/python3.8/site-packages (from geoscilabs) (1.0.0)\n",
      "Requirement already satisfied: ipywidgets in /usr/lib/python3.8/site-packages (from geoscilabs) (7.5.1)\n",
      "Requirement already satisfied: Pillow in /home/tirons/.local/lib/python3.8/site-packages (from geoscilabs) (7.2.0)\n",
      "Requirement already satisfied: numpy>=1.7 in /home/tirons/.local/lib/python3.8/site-packages (from geoscilabs) (1.19.1)\n",
      "Requirement already satisfied: SimPEG>=0.14.1 in /usr/lib/python3.8/site-packages (from geoscilabs) (0.14.2)\n",
      "Requirement already satisfied: scipy>=1.0 in /usr/lib/python3.8/site-packages/scipy-1.5.2-py3.8-linux-x86_64.egg (from geoscilabs) (1.5.2)\n",
      "Requirement already satisfied: numba>=0.44 in /home/tirons/.local/lib/python3.8/site-packages (from empymod>=2.0.0->geoscilabs) (0.51.2)\n",
      "Requirement already satisfied: certifi>=2020.06.20 in /home/tirons/.local/lib/python3.8/site-packages (from matplotlib>2.1->geoscilabs) (2020.6.20)\n",
      "Requirement already satisfied: cycler>=0.10 in /home/tirons/.local/lib/python3.8/site-packages (from matplotlib>2.1->geoscilabs) (0.10.0)\n",
      "Requirement already satisfied: kiwisolver>=1.0.1 in /home/tirons/.local/lib/python3.8/site-packages (from matplotlib>2.1->geoscilabs) (1.2.0)\n",
      "Requirement already satisfied: pyparsing!=2.0.4,!=2.1.2,!=2.1.6,>=2.0.3 in /usr/lib/python3.8/site-packages (from matplotlib>2.1->geoscilabs) (2.4.7)\n",
      "Requirement already satisfied: python-dateutil>=2.1 in /home/tirons/.local/lib/python3.8/site-packages (from matplotlib>2.1->geoscilabs) (2.8.1)\n",
      "Requirement already satisfied: cython>=0.2 in /usr/lib/python3.8/site-packages (from discretize>=0.4.14->geoscilabs) (0.29.21)\n",
      "Requirement already satisfied: properties in /usr/lib/python3.8/site-packages (from discretize>=0.4.14->geoscilabs) (0.6.1)\n",
      "Requirement already satisfied: vectormath in /usr/lib/python3.8/site-packages (from discretize>=0.4.14->geoscilabs) (0.2.2)\n",
      "Requirement already satisfied: tables in /home/tirons/.local/lib/python3.8/site-packages (from deepdish->geoscilabs) (3.6.1)\n",
      "Requirement already satisfied: chardet>=3.0.2 in /usr/lib/python3.8/site-packages (from requests->geoscilabs) (3.0.4)\n",
      "Requirement already satisfied: idna>=2.5 in /usr/lib/python3.8/site-packages (from requests->geoscilabs) (2.10)\n",
      "Requirement already satisfied: urllib3>=1.21.1 in /usr/lib/python3.8/site-packages (from requests->geoscilabs) (1.25.10)\n",
      "Requirement already satisfied: notebook in /usr/lib/python3.8/site-packages (from jupyter->geoscilabs) (6.1.4)\n",
      "Requirement already satisfied: ipykernel in /usr/lib/python3.8/site-packages (from jupyter->geoscilabs) (5.3.4)\n",
      "Requirement already satisfied: qtconsole in /home/tirons/.local/lib/python3.8/site-packages (from jupyter->geoscilabs) (4.7.7)\n",
      "Requirement already satisfied: jupyter-console in /usr/lib/python3.8/site-packages (from jupyter->geoscilabs) (6.2.0)\n",
      "Requirement already satisfied: nbconvert in /usr/lib/python3.8/site-packages (from jupyter->geoscilabs) (5.6.1)\n",
      "Requirement already satisfied: pymatsolver>=0.1.1 in /usr/lib/python3.8/site-packages (from SimPEG>=0.14.1->geoscilabs) (0.1.2)\n",
      "Requirement already satisfied: geoana>=0.0.4 in /usr/lib/python3.8/site-packages (from SimPEG>=0.14.1->geoscilabs) (0.0.6)\n",
      "Requirement already satisfied: pandas in /usr/lib/python3.8/site-packages/pandas-1.1.1-py3.8-linux-x86_64.egg (from SimPEG>=0.14.1->geoscilabs) (1.1.1)\n",
      "Requirement already satisfied: setuptools in /usr/lib/python3.8/site-packages (from numba>=0.44->empymod>=2.0.0->geoscilabs) (50.3.2)\n",
      "Requirement already satisfied: llvmlite<0.35,>=0.34.0.dev0 in /home/tirons/.local/lib/python3.8/site-packages (from numba>=0.44->empymod>=2.0.0->geoscilabs) (0.34.0)\n",
      "Requirement already satisfied: six in /usr/lib/python3.8/site-packages (from cycler>=0.10->matplotlib>2.1->geoscilabs) (1.15.0)\n",
      "Requirement already satisfied: numexpr>=2.6.2 in /home/tirons/.local/lib/python3.8/site-packages (from tables->deepdish->geoscilabs) (2.7.1)\n",
      "Requirement already satisfied: jinja2 in /usr/lib/python3.8/site-packages (from notebook->jupyter->geoscilabs) (2.11.2)\n",
      "Requirement already satisfied: tornado>=5.0 in /usr/lib/python3.8/site-packages (from notebook->jupyter->geoscilabs) (6.0.4)\n",
      "Requirement already satisfied: pyzmq>=17 in /usr/lib/python3.8/site-packages (from notebook->jupyter->geoscilabs) (19.0.1)\n",
      "Requirement already satisfied: argon2-cffi in /usr/lib/python3.8/site-packages (from notebook->jupyter->geoscilabs) (20.1.0)\n",
      "Requirement already satisfied: ipython_genutils in /usr/lib/python3.8/site-packages (from notebook->jupyter->geoscilabs) (0.1.0)\n",
      "Requirement already satisfied: traitlets>=4.2.1 in /usr/lib/python3.8/site-packages (from notebook->jupyter->geoscilabs) (4.3.3)\n",
      "Requirement already satisfied: jupyter_core>=4.6.1 in /usr/lib/python3.8/site-packages (from notebook->jupyter->geoscilabs) (4.6.3)\n",
      "Requirement already satisfied: jupyter_client>=5.3.4 in /usr/lib/python3.8/site-packages (from notebook->jupyter->geoscilabs) (6.1.7)\n",
      "Requirement already satisfied: nbformat in /usr/lib/python3.8/site-packages (from notebook->jupyter->geoscilabs) (5.0.6)\n",
      "Requirement already satisfied: Send2Trash in /usr/lib/python3.8/site-packages (from notebook->jupyter->geoscilabs) (1.5.0)\n",
      "Requirement already satisfied: terminado>=0.8.3 in /usr/lib/python3.8/site-packages (from notebook->jupyter->geoscilabs) (0.9.1)\n",
      "Requirement already satisfied: prometheus_client in /usr/lib/python3.8/site-packages (from notebook->jupyter->geoscilabs) (0.8.0)\n",
      "Requirement already satisfied: ipython>=5.0.0 in /usr/lib/python3.8/site-packages (from ipykernel->jupyter->geoscilabs) (7.18.1)\n",
      "Requirement already satisfied: qtpy in /home/tirons/.local/lib/python3.8/site-packages (from qtconsole->jupyter->geoscilabs) (1.9.0)\n",
      "Requirement already satisfied: pygments in /usr/lib/python3.8/site-packages (from qtconsole->jupyter->geoscilabs) (2.7.1)\n",
      "Requirement already satisfied: prompt_toolkit!=3.0.0,!=3.0.1,<3.1.0,>=2.0.0 in /usr/lib/python3.8/site-packages (from jupyter-console->jupyter->geoscilabs) (3.0.8)\n",
      "Requirement already satisfied: mistune<2,>=0.8.1 in /usr/lib/python3.8/site-packages (from nbconvert->jupyter->geoscilabs) (0.8.4)\n",
      "Requirement already satisfied: entrypoints>=0.2.2 in /usr/lib/python3.8/site-packages (from nbconvert->jupyter->geoscilabs) (0.3)\n",
      "Requirement already satisfied: bleach in /usr/lib/python3.8/site-packages (from nbconvert->jupyter->geoscilabs) (3.2.1)\n",
      "Requirement already satisfied: pandocfilters>=1.4.1 in /usr/lib/python3.8/site-packages (from nbconvert->jupyter->geoscilabs) (1.4.2)\n",
      "Requirement already satisfied: testpath in /usr/lib/python3.8/site-packages (from nbconvert->jupyter->geoscilabs) (0.4.4)\n",
      "Requirement already satisfied: defusedxml in /usr/lib/python3.8/site-packages (from nbconvert->jupyter->geoscilabs) (0.6.0)\n",
      "Requirement already satisfied: pyMKL>=0.0.3 in /usr/lib/python3.8/site-packages (from pymatsolver>=0.1.1->SimPEG>=0.14.1->geoscilabs) (0.0.3)\n",
      "Requirement already satisfied: utm in /usr/lib/python3.8/site-packages (from geoana>=0.0.4->SimPEG>=0.14.1->geoscilabs) (0.6.0)\n",
      "Requirement already satisfied: future in /usr/lib/python3.8/site-packages (from geoana>=0.0.4->SimPEG>=0.14.1->geoscilabs) (0.18.2)\n",
      "Requirement already satisfied: pytz>=2017.2 in /home/tirons/.local/lib/python3.8/site-packages (from pandas->SimPEG>=0.14.1->geoscilabs) (2020.1)\n",
      "Requirement already satisfied: MarkupSafe>=0.23 in /usr/lib/python3.8/site-packages (from jinja2->notebook->jupyter->geoscilabs) (1.1.1)\n",
      "Requirement already satisfied: cffi>=1.0.0 in /home/tirons/.local/lib/python3.8/site-packages (from argon2-cffi->notebook->jupyter->geoscilabs) (1.14.2)\n",
      "Requirement already satisfied: ptyprocess in /usr/lib/python3.8/site-packages (from terminado>=0.8.3->notebook->jupyter->geoscilabs) (0.6.0)\n",
      "Requirement already satisfied: wcwidth in /usr/lib/python3.8/site-packages (from prompt_toolkit!=3.0.0,!=3.0.1,<3.1.0,>=2.0.0->jupyter-console->jupyter->geoscilabs) (0.2.5)\n",
      "Requirement already satisfied: packaging in /usr/lib/python3.8/site-packages (from bleach->nbconvert->jupyter->geoscilabs) (20.4)\n",
      "Requirement already satisfied: webencodings in /usr/lib/python3.8/site-packages (from bleach->nbconvert->jupyter->geoscilabs) (0.5.1)\n",
      "Requirement already satisfied: pycparser in /home/tirons/.local/lib/python3.8/site-packages (from cffi>=1.0.0->argon2-cffi->notebook->jupyter->geoscilabs) (2.20)\n"
     ]
    },
    {
     "name": "stdout",
     "output_type": "stream",
     "text": [
      "Note: you may need to restart the kernel to use updated packages.\n"
     ]
    }
   ],
   "source": [
    "%pip install geoscilabs \n",
    "from geoscilabs.base import widgetify\n",
    "import geoscilabs.em.InductionSphereFEM as IND\n",
    "from ipywidgets import interact, FloatSlider, FloatText, ToggleButtons"
   ]
  },
  {
   "cell_type": "markdown",
   "metadata": {
    "collapsed": true
   },
   "source": [
    "## Sphere FEM Response for EM-31\n",
    "\n",
    "Here, we simulate the response observed over a conductive and magnetically permeable sphere by an EM-31. In the leftmost plot, the regional primary or secondary field is plotted in 2D along with the survey geometry. In the rightmost plot, the response at the receiver coil is plotted as a function of frequency. The parameters for the app are summarized below:\n",
    "\n",
    "* $x_{Tx}$: Horizontal location of the EM-31 (halfway between Tx and Rx coils)\n",
    "* $z_{Tx}$: Vertical location of the EM-31\n",
    "* $L$: Horizontal transmitter-receiver separation\n",
    "* $m$: Transmitter dipole moment\n",
    "* $Orientation$: The EM-31 configuration may be set to vertical coaxial or horizontal coplaner\n",
    "* $x_s$: Horizontal location of the sphere\n",
    "* $z_s$: Vertical location of the sphere\n",
    "* $R$: Radius of the sphere\n",
    "* $log_{10}(\\sigma)$: Conductivity of the sphere\n",
    "* $\\mu_r$: Relative permeability of the sphere\n",
    "* $log_{10}(f)$: Set to visualize the response for a specific frequency\n",
    "* $Field \\; Type$: View the 2D regional primary field, real component of the secondary field or imaginary component of the secondary field."
   ]
  },
  {
   "cell_type": "code",
   "execution_count": 3,
   "metadata": {},
   "outputs": [
    {
     "data": {
      "application/vnd.jupyter.widget-view+json": {
       "model_id": "18a7e7bfca924d3bb1572fe1a4097500",
       "version_major": 2,
       "version_minor": 0
      },
      "text/plain": [
       "MyApp(children=(FloatSlider(value=0.0, continuous_update=False, description='$x_{Tx}$', max=20.0, min=-20.0, s…"
      ]
     },
     "metadata": {},
     "output_type": "display_data"
    }
   ],
   "source": [
    "widgetify(IND.fcn_FDEM_InductionSphereProfileEM31Widget,xtx=FloatSlider(min=-20, max=20., value=0., step=2., continuous_update=False, description = \"$x_{Tx}$\"),\\\n",
    "                        ztx=FloatSlider(min=0., max=10., value=2., step=1., continuous_update=False, description = \"$z_{Tx}$\"),\\\n",
    "                        L=FloatSlider(min=0., max=25., value=20., step=5., continuous_update=False, description = \"$L$\"),\\\n",
    "                        m=FloatSlider(min=1., max=5.,value=1.,step=1.,continuous_update=False,description = \"$m$\"),\\\n",
    "                        orient=ToggleButtons(options=['Vert. Coaxial','Horiz. Coplanar'],value='Horiz. Coplanar',description = \"$Configuration$\"),\\\n",
    "                        x0=FloatSlider(min=-20., max=20., value=0., step=1., continuous_update=False, description = \"$x_s$\"),\\\n",
    "                        z0=FloatSlider(min=-20., max=0., value=-8., step=1., continuous_update=False, description = \"$z_s$\"),\\\n",
    "                        a=FloatSlider(min=0.5, max=5., value=3., step=0.5, continuous_update=False, description = \"$R$\"),\\\n",
    "                        sig=FloatSlider(min=0., max=6., value=2., step=0.5, continuous_update=False, description = \"$log_{10}(\\sigma)$\"),\\\n",
    "                        mur=FloatSlider(min=1., max=5., value=1., step=0.25, continuous_update=False, description = \"$\\mu_r$\"),\\\n",
    "                        logf=FloatSlider(min=0., max=8., value=5., step=1., continuous_update=False, description = \"$log_{10}(f)$\"),\\\n",
    "                        Flag=ToggleButtons(options=['Hp','Hs_real','Hs_imag'],value='Hp',description = \"$Field \\; Type$\"))\n",
    "    "
   ]
  },
  {
   "cell_type": "markdown",
   "metadata": {},
   "source": [
    "## Task\n",
    "\n",
    "Using this app, draw the EM-31 response at $log_{10}(f) = 3$ (red line). Approximate the real and imaginary components and produce a line plot of the reponses as you traverse from -20 to 20 m. "
   ]
  },
  {
   "cell_type": "code",
   "execution_count": null,
   "metadata": {},
   "outputs": [],
   "source": []
  }
 ],
 "metadata": {
  "anaconda-cloud": {},
  "kernelspec": {
   "display_name": "Python 3",
   "language": "python",
   "name": "python3"
  },
  "language_info": {
   "codemirror_mode": {
    "name": "ipython",
    "version": 3
   },
   "file_extension": ".py",
   "mimetype": "text/x-python",
   "name": "python",
   "nbconvert_exporter": "python",
   "pygments_lexer": "ipython3",
   "version": "3.8.6"
  }
 },
 "nbformat": 4,
 "nbformat_minor": 1
}
